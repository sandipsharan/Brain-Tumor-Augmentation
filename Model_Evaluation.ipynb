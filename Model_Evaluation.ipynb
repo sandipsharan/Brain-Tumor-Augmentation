{
  "cells": [
    {
      "cell_type": "markdown",
      "metadata": {
        "id": "ZrWXH4sOkeqQ"
      },
      "source": [
        "**LIKENESS SCORE**"
      ]
    },
    {
      "cell_type": "code",
      "execution_count": 1,
      "metadata": {
        "id": "KeQJ-Qp0gWB7"
      },
      "outputs": [],
      "source": [
        "import glob\n",
        "import numpy as np\n",
        "import scipy.misc\n",
        "from scipy.spatial.distance import minkowski\n",
        "from scipy.stats import ks_2samp\n",
        "import time,imageio, os\n",
        "import torch\n",
        "from PIL import Image\n",
        "from tqdm import tqdm\n",
        "import cv2\n",
        "\n",
        "from google.colab import drive, auth\n",
        "import gspread\n",
        "from google.auth import default"
      ]
    },
    {
      "cell_type": "code",
      "execution_count": 2,
      "metadata": {
        "colab": {
          "base_uri": "https://localhost:8080/"
        },
        "id": "Ni3ZLdDPgxM5",
        "outputId": "c9906d5f-293f-47fe-fc18-495702745b4b"
      },
      "outputs": [
        {
          "output_type": "stream",
          "name": "stdout",
          "text": [
            "Mounted at /content/drive\n"
          ]
        }
      ],
      "source": [
        "from google.colab import drive\n",
        "drive.mount('/content/drive')"
      ]
    },
    {
      "cell_type": "code",
      "execution_count": 3,
      "metadata": {
        "id": "_uYT1x-Fg4rI"
      },
      "outputs": [],
      "source": [
        "def get_gen_image_vector(filename):\n",
        "\n",
        "    im = Image.open(filename)\n",
        "    resized_image = im.resize((128, 128))\n",
        "    image_array = np.array(resized_image)\n",
        "    print(image_array.shape)\n",
        "\n",
        "    return np.float32(np.ndarray.flatten(image_array))/255"
      ]
    },
    {
      "cell_type": "code",
      "execution_count": 4,
      "metadata": {
        "id": "vdxKimZTHD4r"
      },
      "outputs": [],
      "source": [
        "def get_real_image_vector(filename):\n",
        "\n",
        "    im = Image.open(filename)\n",
        "    resized_image = im.resize((128, 128))\n",
        "    image_array = np.array(resized_image)\n",
        "    gray_image = cv2.cvtColor(image_array, cv2.COLOR_BGR2GRAY)\n",
        "    print(gray_image.shape)\n",
        "\n",
        "    return np.float32(np.ndarray.flatten(gray_image))/255"
      ]
    },
    {
      "cell_type": "code",
      "execution_count": 5,
      "metadata": {
        "id": "IpYwc3GLhAUj"
      },
      "outputs": [],
      "source": [
        "def dists(data):\n",
        "    num = data.shape[0]\n",
        "    data = data.reshape((num, -1))\n",
        "    dist = []\n",
        "    for i in tqdm(range(0,num-1)):\n",
        "        for j in range(i+1,num):\n",
        "            dist.append(minkowski(data[i],data[j]))\n",
        "\n",
        "    return np.array(dist)\n",
        "\n",
        "def dist_btw(a,b):\n",
        "    a = a.reshape((a.shape[0], -1))\n",
        "    b = b.reshape((b.shape[0], -1))\n",
        "    dist = []\n",
        "    for i in tqdm(range(a.shape[0])):\n",
        "        for j in range(b.shape[0]):\n",
        "            dist.append(minkowski(a[i],b[j]))\n",
        "\n",
        "    return np.array(dist)\n",
        "\n",
        "\n",
        "def LS(real,gen):\n",
        "    dist_real = dists(real)\n",
        "    dist_gen = dists(gen)\n",
        "    distbtw = dist_btw(real, gen)\n",
        "    D_Sep_1, _ = ks_2samp(dist_real, distbtw)\n",
        "    D_Sep_2, _ = ks_2samp(dist_gen, distbtw)\n",
        "\n",
        "    return 1- np.max([D_Sep_1, D_Sep_2])"
      ]
    },
    {
      "cell_type": "code",
      "execution_count": 8,
      "metadata": {
        "colab": {
          "base_uri": "https://localhost:8080/"
        },
        "id": "T-t68g_Lmn7m",
        "outputId": "e1524f9d-2d8d-4fd5-aa47-b5dc141fa249"
      },
      "outputs": [
        {
          "output_type": "stream",
          "name": "stdout",
          "text": [
            "/content/drive/.shortcut-targets-by-id/1ZFHcykFy2C0_n5ntfNGkr8VRWvtSqULv/BrainTumorDataSet/generated_images_vae\n",
            "(128, 128)\n",
            "(128, 128)\n",
            "(128, 128)\n",
            "(128, 128)\n",
            "(128, 128)\n",
            "(128, 128)\n",
            "(128, 128)\n",
            "(128, 128)\n",
            "(128, 128)\n",
            "(128, 128)\n",
            "/content/drive/.shortcut-targets-by-id/1ZFHcykFy2C0_n5ntfNGkr8VRWvtSqULv/BrainTumorDataSet/generated_images_gan\n",
            "(128, 128)\n",
            "(128, 128)\n",
            "(128, 128)\n",
            "(128, 128)\n",
            "(128, 128)\n",
            "(128, 128)\n",
            "(128, 128)\n",
            "(128, 128)\n",
            "(128, 128)\n",
            "(128, 128)\n",
            "/content/drive/.shortcut-targets-by-id/1ZFHcykFy2C0_n5ntfNGkr8VRWvtSqULv/BrainTumorDataSet/Real\n",
            "(128, 128)\n",
            "(128, 128)\n",
            "(128, 128)\n",
            "(128, 128)\n",
            "(128, 128)\n",
            "(128, 128)\n",
            "(128, 128)\n",
            "(128, 128)\n",
            "(128, 128)\n",
            "(128, 128)\n",
            "No.of Original Images :   10\n",
            "No.of Generated VAE Images:   10\n",
            "No.of Generated GAN Images:   10\n"
          ]
        },
        {
          "output_type": "stream",
          "name": "stderr",
          "text": [
            "100%|██████████| 9/9 [00:00<00:00, 1895.87it/s]\n",
            "100%|██████████| 9/9 [00:00<00:00, 3851.13it/s]\n",
            "100%|██████████| 10/10 [00:00<00:00, 1349.56it/s]\n"
          ]
        },
        {
          "output_type": "stream",
          "name": "stdout",
          "text": [
            "\n",
            " Likeness Score (Real, VAE)=  0.7433333333333334\n"
          ]
        },
        {
          "output_type": "stream",
          "name": "stderr",
          "text": [
            "100%|██████████| 9/9 [00:00<00:00, 2010.80it/s]\n",
            "100%|██████████| 9/9 [00:00<00:00, 3873.25it/s]\n",
            "100%|██████████| 10/10 [00:00<00:00, 1235.36it/s]"
          ]
        },
        {
          "output_type": "stream",
          "name": "stdout",
          "text": [
            "\n",
            " Likeness Score (Real, GAN)=  0.0\n"
          ]
        },
        {
          "output_type": "stream",
          "name": "stderr",
          "text": [
            "\n"
          ]
        }
      ],
      "source": [
        "# Path to Generation Dataset VAE\n",
        "%cd /content/drive/MyDrive/BrainTumorDataSet/generated_images_vae\n",
        "generated_files_vae = glob.glob('*.png')\n",
        "generated_files_vae = np.array([get_gen_image_vector(filename) for filename in generated_files_vae])\n",
        "\n",
        "# Path to Generation Dataset GAN\n",
        "%cd /content/drive/MyDrive/BrainTumorDataSet/generated_images_gan\n",
        "generated_files_gan = glob.glob('*.png')\n",
        "generated_files_gan = np.array([get_gen_image_vector(filename) for filename in generated_files_gan])\n",
        "\n",
        "# Path to Real Dataset\n",
        "%cd /content/drive/MyDrive/BrainTumorDataSet/Real\n",
        "real_files = glob.glob('*.jpg')\n",
        "\n",
        "real = np.array([get_real_image_vector(filename) for filename in real_files])\n",
        "\n",
        "print('No.of Original Images :   '+str(len(real)))\n",
        "print('No.of Generated VAE Images:   '+str(len(generated_files_vae)))\n",
        "print('No.of Generated GAN Images:   '+str(len(generated_files_vae)))\n",
        "\n",
        "print('\\n', 'Likeness Score (Real, VAE)= ', LS(real, generated_files_vae))\n",
        "print('\\n', 'Likeness Score (Real, GAN)= ', LS(real, generated_files_gan))"
      ]
    },
    {
      "cell_type": "code",
      "source": [],
      "metadata": {
        "id": "3P-DxV0jmBLu"
      },
      "execution_count": null,
      "outputs": []
    }
  ],
  "metadata": {
    "colab": {
      "provenance": []
    },
    "kernelspec": {
      "display_name": "Python 3",
      "name": "python3"
    },
    "language_info": {
      "name": "python"
    }
  },
  "nbformat": 4,
  "nbformat_minor": 0
}